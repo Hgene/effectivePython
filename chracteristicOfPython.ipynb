{
 "cells": [
  {
   "cell_type": "markdown",
   "metadata": {},
   "source": [
    "## 1. Byte, str, unicode의 차이점\n",
    "\n",
    "파이썬3 은 __bytes와 str 두가지 타입__ 으로 문자 시퀀스를 나타낸다.  \n",
    "이 때 bytes 인스턴스는 raw 8비트 값을 저장하고, str 인스턴스는 유니코드 문자를 생성한다.(단 파이썬2 의 경우는 str 도 8비트 값을 저장한다.)  \n",
    "유니코드 문자를 바이너리 데이털 표현하는 방법은 많은데, 그 중 가장 일반적인 인코딩 방식이 __UTF-8__ 이다.\n",
    "\n",
    "\n",
    "조금 더 일반적인 형태의 프로그래밍을 하기 위해서는 입력 문자의 인코딩에 대해서 어떠한 가정도 하지 않는게 좋기 때문에,  \n",
    "이를 위한 __헬퍼함수__ 를 통해서 __\\*TypeError 혹은 UnicodeEncodingError를 방지\\*__ 하는 것이 중요하다.\n",
    "\n",
    "\n",
    "문자 시퀀스를 다룰 때 일반적으로 두가지 상황에 부딪힌다.\n",
    "- UTF-8(혹은 다른 인코딩)으로 인도크된 문자인 8비트 값을 처리하는 경우\n",
    "- 인코딩이 없는 유니코드 문자를 처리하는 상황\n",
    "\n",
    "이 두 경우 사이에서 변환하고 코드에서 원하는 타입과 입력값의 타입이 정확히 일치하게 하려면 __헬퍼 함수 두 개__ 가필요하다."
   ]
  },
  {
   "cell_type": "markdown",
   "metadata": {},
   "source": [
    "### 1-1. str | bytes to str"
   ]
  },
  {
   "cell_type": "code",
   "execution_count": 3,
   "metadata": {},
   "outputs": [],
   "source": [
    "def to_str(bytes_or_str):\n",
    "    if isinstance(bytes_or_str, bytes):\n",
    "        value = bytes_or_str.decode('utf-8')\n",
    "    else:\n",
    "        value = bytes_or_str\n",
    "    \n",
    "    return value"
   ]
  },
  {
   "cell_type": "markdown",
   "metadata": {},
   "source": [
    "### 1-2. str | bytes to bytes"
   ]
  },
  {
   "cell_type": "code",
   "execution_count": 4,
   "metadata": {},
   "outputs": [],
   "source": [
    "def to_bytes(bytes_or_str):\n",
    "    if isinstance(bytes_or_str, str):\n",
    "        value = bytes_or_str.encode('utf-8')\n",
    "    else:\n",
    "        value = bytes_or_str\n",
    "    \n",
    "    return value"
   ]
  },
  {
   "cell_type": "markdown",
   "metadata": {},
   "source": [
    "이 두가지 함수를 통해서 코드에서 원하는 타입과 입력값의 타입이 정확히 일치하게 할 수 있다.\n",
    "\n",
    "추가적으로 파일을 읽고 쓸 때 유니코드가 아닌 __바이너리 타입의 경우에는 rb, wb의 인자를 활용__ 하여 작성 할 수 있다."
   ]
  },
  {
   "cell_type": "markdown",
   "metadata": {},
   "source": [
    "## 2. 복잡한 표현식 대신 헬퍼함수를 작성하자\n",
    "\n",
    "파이썬의 경우 코드의 간결성으로 인해서 로직은 전부 적어도 그리 길지 않아서 그대로 사용하는 경우가 있는데,  \n",
    "\n",
    "이 경우 가독성이 떨어짐으로, 어느정도 반복이 이루어지는 작업의 경우 __헬퍼함수로 가독성을 높이는 방법__ 을 선택하는 것이 중요하다.\n",
    "\n",
    "예) URL의 쿼리 문자열 디코딩"
   ]
  },
  {
   "cell_type": "code",
   "execution_count": 7,
   "metadata": {},
   "outputs": [
    {
     "name": "stdout",
     "output_type": "stream",
     "text": [
      "{'red': ['5'], 'blue': ['0'], 'green': ['']}\n"
     ]
    }
   ],
   "source": [
    "from urllib.parse import parse_qs\n",
    "\n",
    "my_values = parse_qs('red=5&blue=0&green=', keep_blank_values=True)\n",
    "print(repr(my_values)) #str과 repr의 차이점은 공식적(repr)인 문자열인지 아닌지(str)를 의미한다."
   ]
  },
  {
   "cell_type": "code",
   "execution_count": 9,
   "metadata": {},
   "outputs": [
    {
     "name": "stdout",
     "output_type": "stream",
     "text": [
      "Red:     ['5']\n",
      "Blue:     ['0']\n",
      "Green:     ['']\n",
      "Opacity:     None\n"
     ]
    }
   ],
   "source": [
    "#비효율적인 방법1\n",
    "print('Red:    ', my_values.get('red'))\n",
    "print('Blue:    ', my_values.get('blue'))\n",
    "print('Green:    ', my_values.get('green'))\n",
    "print('Opacity:    ', my_values.get('opacity'))#key value가 없는 경우"
   ]
  },
  {
   "cell_type": "code",
   "execution_count": 11,
   "metadata": {},
   "outputs": [
    {
     "name": "stdout",
     "output_type": "stream",
     "text": [
      "Red:    '5'\n",
      "Blue:    '0'\n",
      "Green:    0\n",
      "Opacity:    0\n"
     ]
    }
   ],
   "source": [
    "#비효율적인 방법2\n",
    "red = my_values.get('red',[''])[0] or 0\n",
    "blue = my_values.get('blue',[''])[0] or 0\n",
    "green = my_values.get('green',[''])[0] or 0\n",
    "opacity = my_values.get('opacity',[''])[0] or 0\n",
    "\n",
    "print('Red:    %r' % red )\n",
    "print('Blue:    %r' % blue )\n",
    "print('Green:    %r' % green)\n",
    "print('Opacity:    %r' % opacity)#key value가 없는 경우"
   ]
  },
  {
   "cell_type": "markdown",
   "metadata": {},
   "source": [
    "효율적인 방법을 위한 헬퍼함수"
   ]
  },
  {
   "cell_type": "code",
   "execution_count": 12,
   "metadata": {},
   "outputs": [],
   "source": [
    "def get_first_int(values, key, default=0):\n",
    "    found = values.get(key,[''])\n",
    "    if found[0]:\n",
    "        found = int(found[0])\n",
    "    else:\n",
    "        found = default\n",
    "    return found"
   ]
  },
  {
   "cell_type": "code",
   "execution_count": 15,
   "metadata": {},
   "outputs": [
    {
     "name": "stdout",
     "output_type": "stream",
     "text": [
      "Red:    5\n",
      "Blue:    0\n",
      "Green:    0\n",
      "Opacity:    0\n"
     ]
    }
   ],
   "source": [
    "#헬퍼함수를 재사용함으로서 가독성과 효율성을 높인 방법\n",
    "\n",
    "red = get_first_int(my_values,'red')\n",
    "blue = get_first_int(my_values,'blue')\n",
    "green = get_first_int(my_values,'green')\n",
    "opacity = get_first_int(my_values,'opacity')\n",
    "\n",
    "print('Red:    %r' % red )\n",
    "print('Blue:    %r' % blue )\n",
    "print('Green:    %r' % green)\n",
    "print('Opacity:    %r' % opacity)#key value가 없는 경우"
   ]
  },
  {
   "cell_type": "markdown",
   "metadata": {},
   "source": [
    "## 3. List comprehension과 Generator\n",
    "\n",
    "리스트 컴프리헨션(list comprehension)은 for 문을 이용한 리스트/딕셔너리 생성을 한줄안에 끝낼 수 있는 방법이다. 이때 기본사용법 뿐 아니라 다중 루프도 지원하고 있다.  \n",
    "\n",
    "for문을 두개를 사용할 수도 있고, if/else 문도 추가할 수 있다.  \n",
    "\n",
    "__단 표현식이 두개가 넘어가는 경우 가독이 떨어지므로 피해야한다__  \n",
    "\n",
    "\n",
    "### 3-1. 다음은 2중 리스트를 flat하게 만드는데 리스트 컴프리헨션을 사용한 경우이다.  \n",
    "\n"
   ]
  },
  {
   "cell_type": "code",
   "execution_count": 17,
   "metadata": {},
   "outputs": [
    {
     "name": "stdout",
     "output_type": "stream",
     "text": [
      "[1, 2, 3, 4, 5, 6, 7, 8, 9]\n"
     ]
    }
   ],
   "source": [
    "matrix = [[1, 2, 3],[4, 5, 6],[7, 8, 9]]\n",
    "flat = [x for row in matrix for x in row] #다중 루프는 왼쪽부터 읽어들인다.\n",
    "print(flat)"
   ]
  },
  {
   "cell_type": "code",
   "execution_count": 18,
   "metadata": {},
   "outputs": [
    {
     "name": "stdout",
     "output_type": "stream",
     "text": [
      "[[1, 4, 9], [16, 25, 36], [49, 64, 81]]\n"
     ]
    }
   ],
   "source": [
    "squared = [[x**2 for x in row] for row in matrix]\n",
    "print(squared)"
   ]
  },
  {
   "cell_type": "code",
   "execution_count": 20,
   "metadata": {},
   "outputs": [
    {
     "name": "stdout",
     "output_type": "stream",
     "text": [
      "[[6], [9]]\n"
     ]
    }
   ],
   "source": [
    "#다중 루프와 if/else 문을 복합적으로 사용한 경우\n",
    "filtered = [[x for x in row if x % 3 == 0] for row in matrix if sum(row) >= 10]\n",
    "print(filtered)"
   ]
  },
  {
   "cell_type": "markdown",
   "metadata": {},
   "source": [
    "### 3-2. 컴프리헨션이 클 때는 제너레이터(Generator) 표현식을 고려하자.\n",
    "\n",
    "리스트 컴프리헨션의 문제점은 입력시퀀스에 있는 각값별로 아이템을 하나씩 담은 리스트를 통째로 생성한다는 점이다.  \n",
    "\n",
    "이는 입력이 적을 때는 괜찮지만, 입력 개수가 많아지면 __메모리를 많이 소모한다는 문제점__ 이 생기고, 이로 인해 프로그램을 망가뜨리는 원인이 되기도 한다.\n",
    "\n",
    "__제너레이터의 특성__ 은 다음과 같다  \n",
    "- 제너레이터 표현식은 이터레이터로 한 번에 한 출력만 만드므로 __메모리 문제를 피할 수 있다.__  \n",
    "- 한 제너레이터 표현식에서 나온 이터레이터를 또 다른 제너레이터의 표현식의 for 서브 표현식으로 넘기는 방식으로 제너레이터 표현식을 조합할 수 있다.\n",
    "- __제너레이터 표현식은 서로 연결되어 있을 때 매우 빠르게 실행된다.__"
   ]
  },
  {
   "cell_type": "code",
   "execution_count": 21,
   "metadata": {},
   "outputs": [],
   "source": [
    "# Example 1 파일의 생성\n",
    "import random\n",
    "with open('./dataset/my_file.txt', 'w') as f:\n",
    "    for _ in range(10):\n",
    "        f.write('a' * random.randint(0, 100))\n",
    "        f.write('\\n')"
   ]
  },
  {
   "cell_type": "code",
   "execution_count": 22,
   "metadata": {},
   "outputs": [
    {
     "name": "stdout",
     "output_type": "stream",
     "text": [
      "[92, 57, 64, 71, 29, 1, 48, 60, 17, 10]\n"
     ]
    }
   ],
   "source": [
    "#List comprehension 예시\n",
    "value = [len(x) for x in open('./dataset/my_file.txt')]\n",
    "print(value)"
   ]
  },
  {
   "cell_type": "code",
   "execution_count": 36,
   "metadata": {},
   "outputs": [
    {
     "name": "stdout",
     "output_type": "stream",
     "text": [
      "<generator object <genexpr> at 0x0000026361E5E6C8>\n",
      "92\n",
      "57\n",
      "64\n",
      "71\n",
      "29\n",
      "1\n",
      "48\n",
      "60\n",
      "17\n",
      "10\n"
     ]
    }
   ],
   "source": [
    "#Generator 예시\n",
    "gen = (len(x) for x in open('./dataset/my_file.txt'))\n",
    "print(gen)\n",
    "\n",
    "#generator의 값을 불러오는 방법\n",
    "for x in gen:\n",
    "    print(x)"
   ]
  },
  {
   "cell_type": "code",
   "execution_count": 37,
   "metadata": {},
   "outputs": [
    {
     "name": "stdout",
     "output_type": "stream",
     "text": [
      "(92, 9.591663046625438)\n",
      "(57, 7.54983443527075)\n",
      "(64, 8.0)\n",
      "(71, 8.426149773176359)\n",
      "(29, 5.385164807134504)\n",
      "(1, 1.0)\n",
      "(48, 6.928203230275509)\n",
      "(60, 7.745966692414834)\n",
      "(17, 4.123105625617661)\n",
      "(10, 3.1622776601683795)\n"
     ]
    }
   ],
   "source": [
    "#제너레이터는 한번 사용되면 없어지므로 다시 불러와야한다.\n",
    "gen = (len(x) for x in open('./dataset/my_file.txt'))\n",
    "\n",
    "#제너레이터로 또 다른 제너레이터 만들기\n",
    "roots = ((x,x**0.5) for x in gen)\n",
    "\n",
    "for x in roots:\n",
    "    print(x)"
   ]
  },
  {
   "cell_type": "markdown",
   "metadata": {},
   "source": [
    "## 4. range 보다는 enumerate를 사용하자\n",
    "\n",
    "내장함수 range는 정수집합을 순회하는 루프를 실행할 때 유용하다.  \n",
    "\n",
    "허나 자료구조를 순회할 때는 range를 만들고 인덱스를 추출하는 것보다 __enumerate를 사용하는 것이 훨씬 유용할 뿐 아니라 가독성이 좋다.__\n"
   ]
  },
  {
   "cell_type": "code",
   "execution_count": 38,
   "metadata": {},
   "outputs": [
    {
     "name": "stdout",
     "output_type": "stream",
     "text": [
      "vanillla is delicious\n",
      "chocolate is delicious\n",
      "pecan is delicious\n",
      "strawberry is delicious\n",
      "1 : vanillla\n",
      "2 : chocolate\n",
      "3 : pecan\n",
      "4 : strawberry\n"
     ]
    }
   ],
   "source": [
    "#range를 활용한 자료구조의 순회\n",
    "flavor_list = ['vanillla', 'chocolate', 'pecan', 'strawberry']\n",
    "\n",
    "for flavor in flavor_list:\n",
    "    print('%s is delicious' %flavor)\n",
    "    \n",
    "for i in range(len(flavor_list)):\n",
    "    flavor = flavor_list[i]\n",
    "    print('%d : %s' % (i+1, flavor))"
   ]
  },
  {
   "cell_type": "code",
   "execution_count": 40,
   "metadata": {},
   "outputs": [
    {
     "name": "stdout",
     "output_type": "stream",
     "text": [
      "1 : vanillla\n",
      "2 : chocolate\n",
      "3 : pecan\n",
      "4 : strawberry\n"
     ]
    }
   ],
   "source": [
    "#enumerate를 활용한 자료구조의 순회\n",
    "for i, flavor in enumerate(flavor_list):\n",
    "    print('%d : %s' % (i+1, flavor))"
   ]
  },
  {
   "cell_type": "markdown",
   "metadata": {},
   "source": [
    "## 5. 이터레이터를 병렬로 처리하려면 zip을 사용하자\n",
    "\n",
    "내장함수 zip은 여러 이터레이터를 병렬로 순회할 때 사용할 수 있다.\n",
    "\n",
    "zip은 다음과 같은 특징을 가지고 있다.\n",
    "- 파이썬3의 zip은 튜플을 생성하는 지연 제너레이터다. 이에 반해 파이썬 2의zip은 전체 결과를 튜플 리스트로 반환한다.\n",
    "- 길이가 다른 이터레이터를 사용하면, 길이가 가장 짧은 이터레이터의 길이로 반복문이 돌아간다.\n",
    "- 내장모듈 itertools의 zip_longest 함수를 쓰면 길이에 상관없이 가장 긴 이터레이터에 맞추어 돌아갈 수 있다."
   ]
  },
  {
   "cell_type": "code",
   "execution_count": 41,
   "metadata": {},
   "outputs": [
    {
     "name": "stdout",
     "output_type": "stream",
     "text": [
      "Cecilia\n"
     ]
    }
   ],
   "source": [
    "names = ['Cecilia', 'Lise', 'Marie']\n",
    "letters = [len(x) for x in names]\n",
    "longest_name = None\n",
    "max_letters=0\n",
    "\n",
    "#zip을 사용하지 않는 경우\n",
    "for i in range(len(names)):\n",
    "    count = letters[i]\n",
    "    if count > max_letters:\n",
    "        longest_name=names[i]\n",
    "        max_letters = count\n",
    "print(longest_name)"
   ]
  },
  {
   "cell_type": "code",
   "execution_count": 42,
   "metadata": {},
   "outputs": [
    {
     "name": "stdout",
     "output_type": "stream",
     "text": [
      "Cecilia\n"
     ]
    }
   ],
   "source": [
    "#zip을 사용하는 경우\n",
    "for name, count in zip(names, letters):\n",
    "    if count > max_letters:\n",
    "        longest_name = name\n",
    "        max_latters = count\n",
    "print(longest_name)"
   ]
  },
  {
   "cell_type": "markdown",
   "metadata": {},
   "source": [
    "## 6. try/except/else/finally 에서 각 블록의 장점을 이용하자\n",
    "\n",
    "- try : 에러가 발생가능한 코드\n",
    "- except : 에러 코드\n",
    "- else : 예외가 발생하지 않으면 실행되는 코드 / 에러가 발생할 수 있다. 특히 이 블록은 __try 블록에 있는 코드 양을 최소__ 로 줄이는데 도움을 주며, 에러여부에 따라 실행되는 코드를 명확히 구분하게 해준다. 또한 __finally 전에 실행되어야 하는 코드__ 를 정리할 수 있다.\n",
    "- finally : 예외여부에 상관없이 반드시 실행되어야 하는 코드\n",
    "\n",
    "\n",
    "예를 들어 파일에서 수행할 작업 설명을 읽고 처리한 후, 즉석에서 파일을 업데이트 한다고 하자. 이 때  \n",
    "\n",
    "\n",
    "__except 블록__ 은 try 블록에서 일어난 예외를 처리하는데 사용한다.  \n",
    "\n",
    "__else 블록__ 은 파일을 즉석에서 업데이트 하고, 이와 관련한 예외가 전달되게 하는데 사용한다.  \n",
    "\n",
    "__finally 블록__ 은 파일 핸들을 정리하는데 사용한다.  \n",
    "\n"
   ]
  },
  {
   "cell_type": "code",
   "execution_count": 43,
   "metadata": {},
   "outputs": [],
   "source": [
    "UNDEFINED = object()\n",
    "\n",
    "def divide_json(path):\n",
    "    handle = open(path,'r+')\n",
    "    try:\n",
    "        data = handle.read()\n",
    "        op = json.loads(data)\n",
    "        value = ( op['numerator'] / op['denominator'] )\n",
    "    except ZeroDivisionError as e:\n",
    "        return UNDEFINED\n",
    "    else:\n",
    "        op['result'] = value\n",
    "        result = json.dumps(op)\n",
    "        handle.seek(0)\n",
    "        handle.write(result)\n",
    "        return value\n",
    "    finally:\n",
    "        handle.close()"
   ]
  },
  {
   "cell_type": "code",
   "execution_count": null,
   "metadata": {},
   "outputs": [],
   "source": []
  }
 ],
 "metadata": {
  "kernelspec": {
   "display_name": "torch",
   "language": "python",
   "name": "torch"
  },
  "language_info": {
   "codemirror_mode": {
    "name": "ipython",
    "version": 3
   },
   "file_extension": ".py",
   "mimetype": "text/x-python",
   "name": "python",
   "nbconvert_exporter": "python",
   "pygments_lexer": "ipython3",
   "version": "3.7.4"
  }
 },
 "nbformat": 4,
 "nbformat_minor": 4
}
