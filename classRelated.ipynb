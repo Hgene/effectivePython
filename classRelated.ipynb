{
 "cells": [
  {
   "cell_type": "markdown",
   "metadata": {},
   "source": [
    "# Class를 관리하는법\n",
    "1. 딕셔너리 튜플보다는 헬퍼 클래스를 관리하자\n",
    "2. 인터페이스가 간단하면 클래스 대신 함수를 활용하자(후크함수)\n",
    "3. 객체를 범용으로 이용하려면 @classmethod 다형성을 이용하자\n",
    "4. super로 부모 클래스를 초기화하자\n",
    "5. 공개 속성과 비공개 속성\n",
    "6. 커스텀 컨테이너 타입은 collections.abc를 활용하자"
   ]
  },
  {
   "cell_type": "markdown",
   "metadata": {},
   "source": [
    "## 1. 딕셔너리 튜플보다는 헬퍼 클래스를 관리하자\n",
    "\n"
   ]
  },
  {
   "cell_type": "code",
   "execution_count": 1,
   "metadata": {},
   "outputs": [],
   "source": [
    "class SimpleGradebook(object):\n",
    "    def __init__(self):\n",
    "        self._grades = {}\n",
    "        \n",
    "    def add_student(self, name):\n",
    "        self._grades[name] = []\n",
    "    \n",
    "    def report_grade(self, name, score):\n",
    "        self._grades[name].append(score)\n",
    "    \n",
    "    def average_grade(self, name):\n",
    "        grades = self._grades[name]\n",
    "        return sum(grades)/ len(grades)"
   ]
  },
  {
   "cell_type": "code",
   "execution_count": 2,
   "metadata": {},
   "outputs": [
    {
     "name": "stdout",
     "output_type": "stream",
     "text": [
      "90.0\n"
     ]
    }
   ],
   "source": [
    "book = SimpleGradebook()\n",
    "book.add_student('Isaac Newton')\n",
    "book.report_grade('Isaac Newton', 90)\n",
    "print(book.average_grade('Isaac Newton'))"
   ]
  },
  {
   "cell_type": "code",
   "execution_count": 3,
   "metadata": {},
   "outputs": [],
   "source": [
    "class BySubjectGradebook(object):\n",
    "    def __init__(self):\n",
    "        self._grades = {}\n",
    "        \n",
    "    def add_student(self, name):\n",
    "        self._grades[name] = {}\n",
    "        \n",
    "    def report_grade(self, name, subject, grade):\n",
    "        by_subject = self._grades[name]\n",
    "        grades_list= by_subject.setdefault(subject, [])\n",
    "        grades_list.append(grade)\n",
    "    \n",
    "    def average_grade(self, name):\n",
    "        by_subject = self._grades[name]\n",
    "        total, count= 0, 0\n",
    "        for grades in by_subject.values():\n",
    "            total += sum(grades)\n",
    "            count += len(grades)\n",
    "        return total / count"
   ]
  },
  {
   "cell_type": "code",
   "execution_count": 4,
   "metadata": {},
   "outputs": [
    {
     "name": "stdout",
     "output_type": "stream",
     "text": [
      "75.0\n"
     ]
    }
   ],
   "source": [
    "book = BySubjectGradebook()\n",
    "book.add_student('Isaac Newton')\n",
    "book.report_grade('Isaac Newton','Math', 90)\n",
    "book.report_grade('Isaac Newton','Math', 80)\n",
    "book.report_grade('Isaac Newton','Gym', 70)\n",
    "book.report_grade('Isaac Newton','Gym', 60)\n",
    "print(book.average_grade('Isaac Newton'))"
   ]
  },
  {
   "cell_type": "markdown",
   "metadata": {},
   "source": [
    "```\n",
    "class WeightedGradebook(object):\n",
    "    def __init__(self):\n",
    "        self._grades = {}\n",
    "        \n",
    "    def add_student(self, name):\n",
    "        self._grades[name] = {}\n",
    "        \n",
    "    def report_grade(self, name, subject, score, weight):\n",
    "        by_subject = self._grades[name]\n",
    "        grades_list= by_subject.setdefault(subject, [])\n",
    "        grades_list.append((score, weight))\n",
    "    \n",
    "    def average_grade(self, name):\n",
    "        by_subject = self._grades[name]\n",
    "        score_sum, score_count= 0, 0\n",
    "        for subject, scores in by_subject.items():\n",
    "            subject_avg, total_weight = 0, 0\n",
    "            for score, weight in scores:\n",
    "                \n",
    "                score_sum += sum(score)\n",
    "                score_count += len(weight)\n",
    "        return total / count\n",
    "```\n",
    "\n",
    "이정도가 되면 딕셔너리와 튜플 대신 클래스의 계층구조를 사용할 때가 된 것이다.\n",
    "\n",
    "### 클래스 리팩토링\n",
    "\n",
    "관리하기 복잡하다고 느끼는 즉시 클래스로 옮겨야한다. 그러면 데이터를 더 잘 캡슐화한 잘 정의된 인터페이스를 제공할 수 있다.  \n",
    "의존 관계에서 __가장 아래에 있는 성적__ 부터 클래스를 옮겨보자. 이렇게 간단한 정보를 담기에 클래스는 너무 무거워 보인다.  \n",
    "성적은 변하지 않으니 튜플을 사용하는 게 더 적절해보인다. 다음 코드에서는 리스트안에 성적을 기록하려고 __(score, weight)__ 튜플을 사용한다."
   ]
  },
  {
   "cell_type": "code",
   "execution_count": 5,
   "metadata": {},
   "outputs": [
    {
     "name": "stdout",
     "output_type": "stream",
     "text": [
      "95.0\n"
     ]
    }
   ],
   "source": [
    "grades=[]\n",
    "grades.append((95, 0.45))\n",
    "\n",
    "total = sum(score*weight for score, weight in grades)\n",
    "total_weight = sum(weight for _,weight in grades)\n",
    "average_grade = total / total_weight\n",
    "print(average_grade)"
   ]
  },
  {
   "cell_type": "markdown",
   "metadata": {},
   "source": [
    "튜플에 이름까지 추가하면, 다음과 같은 코드로 나타낼 수 있다.  \n",
    "이 때 튜플을 점점 더 길게 확장하는 패턴은 딕셔너리의 계층을 깊게 두는 방식과 비슷하다."
   ]
  },
  {
   "cell_type": "code",
   "execution_count": 6,
   "metadata": {},
   "outputs": [
    {
     "name": "stdout",
     "output_type": "stream",
     "text": [
      "95.0\n"
     ]
    }
   ],
   "source": [
    "grades=[]\n",
    "grades.append((95, 0.45, 'Great job'))\n",
    "total = sum(score*weight for score, weight, _ in grades)\n",
    "total_weight = sum(weight for _, weight, _ in grades)\n",
    "average_grade = total / total_weight\n",
    "print(average_grade)"
   ]
  },
  {
   "cell_type": "markdown",
   "metadata": {},
   "source": [
    "이 때 이 방식은 `collections.namedtuple` 를 활용하면 더욱 손쉽게 다룰 수 있다.  \n",
    "namedtuple이 여러상황에서 유용하긴 하지만 장점보다 단점을 만들어낼 수 있는 상황도 이해해야한다.  \n",
    "namedtuple의 제약은 다음과 같다.  \n",
    "- namedtuple로 만든 클래스에 기본 인수 값을 설정할 수 없다. 그래서 데이터에 선택적인 속성이 많으면 다루기 힘들어진다.\n",
    "- 여전히 인덱스와 순회방법으로 접근 가능하나, 나중에 실제 클래스로 바꾸기가 어려운 경우가 다수 발생한다."
   ]
  },
  {
   "cell_type": "code",
   "execution_count": 7,
   "metadata": {},
   "outputs": [],
   "source": [
    "import collections\n",
    "Grade = collections.namedtuple('Grade',('score', 'weight'))"
   ]
  },
  {
   "cell_type": "markdown",
   "metadata": {},
   "source": [
    "이러한 상황들을 조합하여, 성적입력에 적합한 클래스를 만들어보면 다음과 같이 세 개의 클래스를 통해 진행할 수 있다.  \n",
    "특히 마지막의 Gradebook 클래스의 경우 두 가지 클래스를 합쳐서 보관하는 역할을 한다."
   ]
  },
  {
   "cell_type": "code",
   "execution_count": 8,
   "metadata": {},
   "outputs": [],
   "source": [
    "class Subject(object):\n",
    "    def __init__(self):\n",
    "        self._grades = []\n",
    "        \n",
    "    def report_grade(self, score, weight):\n",
    "        self._grades.append(Grade(score, weight))\n",
    "        \n",
    "    def average_grade(self):\n",
    "        total, total_weight = 0, 0\n",
    "        for grade in self._grades:\n",
    "            total += grade.score * grade.weight\n",
    "            total_weight += grade.weight\n",
    "        return total / total_weight"
   ]
  },
  {
   "cell_type": "code",
   "execution_count": 9,
   "metadata": {},
   "outputs": [],
   "source": [
    "class Student(object):\n",
    "    def __init__(self):\n",
    "        self._subjects = {}\n",
    "        \n",
    "    def subject(self, name):\n",
    "        if name not in  self._subjects:\n",
    "            self._subjects[name] = Subject()\n",
    "        return self._subjects[name]\n",
    "    \n",
    "    def average_grade(self):\n",
    "        total, count = 0, 0\n",
    "        for subject in self._subjects.values():\n",
    "            total += subject.average_grade()\n",
    "            count += 1\n",
    "        return total / count\n",
    "    "
   ]
  },
  {
   "cell_type": "code",
   "execution_count": 10,
   "metadata": {},
   "outputs": [],
   "source": [
    "class Gradebook(object):\n",
    "    def __init__(self):\n",
    "        self._students = {}\n",
    "        \n",
    "    def student(self, name):\n",
    "        if name not in self._students:\n",
    "            self._students[name] = Student()\n",
    "        return self._students[name]"
   ]
  },
  {
   "cell_type": "code",
   "execution_count": 11,
   "metadata": {},
   "outputs": [
    {
     "name": "stdout",
     "output_type": "stream",
     "text": [
      "80.0\n"
     ]
    }
   ],
   "source": [
    "book = Gradebook()\n",
    "albert = book.student('Albert Einstein')\n",
    "math = albert.subject('Math')\n",
    "math.report_grade(80, 0.10)\n",
    "\n",
    "print(albert.average_grade())"
   ]
  },
  {
   "cell_type": "markdown",
   "metadata": {},
   "source": [
    "## 2. 인터페이스가 간단하면 클래스 대신 함수를 활용하자(후크함수)\n",
    "\n",
    "아래의 예시는 String의 길이 순으로 정렬하는 key를 입력하여 사용자화하였다.  \n",
    "\n",
    "이는 파이썬에서 함수가 일급객체이기 때문에 가능하다.  \n",
    "\n"
   ]
  },
  {
   "cell_type": "code",
   "execution_count": 12,
   "metadata": {},
   "outputs": [
    {
     "name": "stdout",
     "output_type": "stream",
     "text": [
      "['Scorates', 'Archimedes', 'Plato', 'Aristotle']\n",
      "['Plato', 'Scorates', 'Aristotle', 'Archimedes']\n"
     ]
    }
   ],
   "source": [
    "names = ['Scorates', 'Archimedes', 'Plato', 'Aristotle']\n",
    "print(names)\n",
    "names.sort(key=lambda x : len(x)) #String의 길이 순으로 정렬하는 key를 입력하여 사용자화하였다.\n",
    "print(names)"
   ]
  },
  {
   "cell_type": "code",
   "execution_count": 13,
   "metadata": {},
   "outputs": [],
   "source": [
    "def log_missing():\n",
    "    print('Key added')\n",
    "    return 0"
   ]
  },
  {
   "cell_type": "code",
   "execution_count": 14,
   "metadata": {},
   "outputs": [
    {
     "name": "stdout",
     "output_type": "stream",
     "text": [
      "Before: {'greeen': 12, 'blue': 3}\n",
      "Key added\n",
      "Key added\n",
      "After: {'greeen': 12, 'blue': 20, 'red': 5, 'orange': 9}\n"
     ]
    }
   ],
   "source": [
    "from collections import defaultdict\n",
    "\n",
    "current = {'greeen': 12, 'blue': 3}\n",
    "increments = [('red', 5), ('blue', 17), ('orange', 9)]\n",
    "\n",
    "result = defaultdict(log_missing, current)\n",
    "print('Before:', dict(result))\n",
    "for key, amount in increments:\n",
    "    result[key] +=amount\n",
    "    \n",
    "print('After:', dict(result))"
   ]
  },
  {
   "cell_type": "markdown",
   "metadata": {},
   "source": [
    "예를 들어 여기서 찾을 수 없는 key의 개수를 센다고 가정해보자.  \n",
    "\n",
    "이를 위한 헬퍼함수는 다음과 같이 구축할 수 있다."
   ]
  },
  {
   "cell_type": "code",
   "execution_count": 15,
   "metadata": {},
   "outputs": [],
   "source": [
    "def increment_with_report(current, increments):\n",
    "    added_count = 0\n",
    "    \n",
    "    def missing():\n",
    "        nonlocal added_count\n",
    "        added_count += 1\n",
    "        return 0\n",
    "    \n",
    "    result = defaultdict(missing, current)\n",
    "    for key, amount in increments:\n",
    "        result[key] +=amount\n",
    "    \n",
    "    return result, added_count"
   ]
  },
  {
   "cell_type": "code",
   "execution_count": 16,
   "metadata": {},
   "outputs": [],
   "source": [
    "#case1. 헬퍼함수를 제작함으로써 원하는 정보를 정리\n",
    "result, count = increment_with_report(current, increments)\n",
    "assert count == 2"
   ]
  },
  {
   "cell_type": "markdown",
   "metadata": {},
   "source": [
    "또다른 방법중 하나는 보존할 상태를 캡슐화 하는 작은 클래스를 정의하는 것이다."
   ]
  },
  {
   "cell_type": "code",
   "execution_count": 17,
   "metadata": {},
   "outputs": [],
   "source": [
    "class CountMissing(object):\n",
    "    def __init__(self):\n",
    "        self.added = 0\n",
    "    \n",
    "    def missing(self):\n",
    "        self.added += 1\n",
    "        return 0\n",
    "    "
   ]
  },
  {
   "cell_type": "code",
   "execution_count": 18,
   "metadata": {},
   "outputs": [],
   "source": [
    "#case2. 작은 클래스를 제작함으로써 원하는 정보를 정리\n",
    "counter = CountMissing()\n",
    "result = defaultdict(counter.missing, current)\n",
    "\n",
    "for key, amount in increments:\n",
    "    result[key] += amount\n",
    "\n",
    "#출력된 결과의 확인\n",
    "assert counter.added == 2"
   ]
  },
  {
   "cell_type": "markdown",
   "metadata": {},
   "source": [
    "### __call__\n",
    "\n",
    "이 때 decorator 함수 `__call__`은 클래스를 함수처럼 부를 수 있게 하는 함수이다.  \n",
    "\n",
    "이번 예제에서는 CountMissing"
   ]
  },
  {
   "cell_type": "code",
   "execution_count": 19,
   "metadata": {},
   "outputs": [],
   "source": [
    "class BetterCountMissing(object):\n",
    "    def __init__(self):\n",
    "        self.added = 0\n",
    "    \n",
    "    def __call__(self):\n",
    "        self.added += 1\n",
    "        return 0\n",
    "    "
   ]
  },
  {
   "cell_type": "code",
   "execution_count": 20,
   "metadata": {},
   "outputs": [],
   "source": [
    "#case2-2. 클래스에 callable 함수를 제작함으로써 원하는 정보를 정리\n",
    "counter = BetterCountMissing()\n",
    "result = defaultdict(counter, current)\n",
    "\n",
    "for key, amount in increments:\n",
    "    result[key] += amount\n",
    "\n",
    "#출력된 결과의 확인\n",
    "assert counter.added == 2"
   ]
  },
  {
   "cell_type": "markdown",
   "metadata": {},
   "source": [
    "## 3. 객체를 범용으로 이용하려면 @classmethod 다형성을 이용하자"
   ]
  },
  {
   "cell_type": "code",
   "execution_count": 21,
   "metadata": {},
   "outputs": [],
   "source": [
    "class InputData(object):\n",
    "    def read(self):\n",
    "        raise NotImplementedError"
   ]
  },
  {
   "cell_type": "code",
   "execution_count": 22,
   "metadata": {},
   "outputs": [],
   "source": [
    "class PathInputData(InputData):\n",
    "    def __init__(self, path):\n",
    "        super.__init__()\n",
    "        self.path = path\n",
    "    \n",
    "    def read(self):\n",
    "        return open(self.path).read()"
   ]
  },
  {
   "cell_type": "code",
   "execution_count": 23,
   "metadata": {},
   "outputs": [],
   "source": [
    "class Worker(object):\n",
    "    def __init__(self, input_data):\n",
    "        self.input_data = input_data\n",
    "        self.result = None\n",
    "        \n",
    "    def map(self):\n",
    "        raise NotImplementedError\n",
    "    \n",
    "    def reduce(self, other):\n",
    "        raise NotImplementedError"
   ]
  },
  {
   "cell_type": "code",
   "execution_count": 24,
   "metadata": {},
   "outputs": [],
   "source": [
    "class LineCounterWorker(Worker):\n",
    "    def map(self):\n",
    "        data = self.input_data.read()\n",
    "        self.result = data.count('\\n')\n",
    "        \n",
    "    def reduce(self, other):\n",
    "        self.result += other.result"
   ]
  },
  {
   "cell_type": "markdown",
   "metadata": {},
   "source": [
    "만약 이렇게 함수와 클래스들을 생성했다면, 이들을 어떻게 연결하여 사용할까?\n",
    "1. 헬퍼함수로 직접연결하는 방법\n",
    "2. @classmethod 의 다형성을 이용하여 연결하는 방법"
   ]
  },
  {
   "cell_type": "code",
   "execution_count": 25,
   "metadata": {},
   "outputs": [],
   "source": [
    "#case1. 헬퍼함수를 만들어 직접연결하는 방법\n",
    "#먼저 디렉토리를 나열하고, 각각 dir을 만들어 데이터 리스트 객체를 생성한다.\n",
    "def generate_inputs(data_dir):\n",
    "    for name in os.listdir(data_dir):\n",
    "        yield PathInputData(os.path.join(data_dir, name))"
   ]
  },
  {
   "cell_type": "code",
   "execution_count": 26,
   "metadata": {},
   "outputs": [],
   "source": [
    "#만들어진 데이터 리스트 객체로 부터 worker 인스턴스를 만든다.\n",
    "def create_workers(input_list):\n",
    "    workers = []\n",
    "    for input_data in input_list:\n",
    "        workers.append(LineCounterWorker(input_data))\n",
    "    return workers"
   ]
  },
  {
   "cell_type": "code",
   "execution_count": 39,
   "metadata": {},
   "outputs": [],
   "source": [
    "from threading import Thread\n",
    "\n",
    "def execute(workers):\n",
    "    threads = [Thread(target = w.map) for w in workers]\n",
    "    for thread in threads : thread.start()\n",
    "    for thread in threads : thread.join()\n",
    "\n",
    "    first, rest = workers[0], workers[1:]\n",
    "    for worker in rest:\n",
    "        first.reduce(worker)\n",
    "    return first.result"
   ]
  },
  {
   "cell_type": "code",
   "execution_count": 28,
   "metadata": {},
   "outputs": [],
   "source": [
    "def mapreduce(data_dir):\n",
    "    inputs = generate_inputs(data_dir)\n",
    "    workers = create_workers(inputs)\n",
    "    return excute(workers)"
   ]
  },
  {
   "cell_type": "markdown",
   "metadata": {},
   "source": [
    "이렇게 만들어진 mapreduce의 가장 큰 단점은 범용성이 없다는 것이다.  \n",
    "\n",
    "이 문제를 풀기 위해서는, 일반적으로 다른언어에서는 생성자의 다형성을 이용하여 해결하지만, 파이썬의 경우 `__init__` 함수만 생성이 가능하다는 것을 염두해두고 진행하여야 한다.  \n",
    "\n",
    "즉 파이썬에서는 @classmethod의 다형성을 이용하여 이 문제를 해결한다."
   ]
  },
  {
   "cell_type": "code",
   "execution_count": 29,
   "metadata": {},
   "outputs": [],
   "source": [
    "class GenericInputData(object):\n",
    "    def read(self):\n",
    "        raise NotImplementedError\n",
    "    \n",
    "    @classmethod\n",
    "    def generate_inputs(cls, config):\n",
    "        raise NotImplementedError\n"
   ]
  },
  {
   "cell_type": "code",
   "execution_count": 30,
   "metadata": {},
   "outputs": [],
   "source": [
    "class PathInputData(GenericInputData):\n",
    "    def __init__(self, path):\n",
    "        super().__init__()\n",
    "        self.path = path\n",
    "    \n",
    "    def read(self):\n",
    "        return open(self.path).read()\n",
    "    \n",
    "    @classmethod\n",
    "    def generate_inputs(cls, config):\n",
    "        data_dir = config['data_dir']\n",
    "        for name in os.listdir(data_dir):\n",
    "            yield cls(os.path.join(data_dir, name))"
   ]
  },
  {
   "cell_type": "code",
   "execution_count": 31,
   "metadata": {},
   "outputs": [],
   "source": [
    "class GenericWorker(object):\n",
    "    def __init__(self, input_data):\n",
    "        self.input_data = input_data\n",
    "        self.result = None\n",
    "        \n",
    "    def map(self):\n",
    "        raise NotImplementedError\n",
    "    \n",
    "    def reduce(self, other):\n",
    "        NotImplementedError\n",
    "        \n",
    "    @classmethod\n",
    "    def create_workers(cls, input_class, config):\n",
    "        workers = []\n",
    "        for input_data in input_class.generate_inputs(config):\n",
    "            workers.append(cls(input_data))\n",
    "        return workers"
   ]
  },
  {
   "cell_type": "code",
   "execution_count": 32,
   "metadata": {},
   "outputs": [],
   "source": [
    "class LineCountWorker(GenericWorker):\n",
    "    def map(self):\n",
    "        data = self.input_data.read()\n",
    "        self.result = data.count('\\n')\n",
    "\n",
    "    def reduce(self, other):\n",
    "        self.result += other.result"
   ]
  },
  {
   "cell_type": "code",
   "execution_count": 37,
   "metadata": {},
   "outputs": [],
   "source": [
    "def mapreduce(worker_class, input_class, config):\n",
    "    workers = worker_class.create_workers(input_class, config)\n",
    "    return execute(workers)"
   ]
  },
  {
   "cell_type": "code",
   "execution_count": 34,
   "metadata": {},
   "outputs": [],
   "source": [
    "import os\n",
    "\n",
    "def write_test_files(tmpdir):\n",
    "    for i in range(100):\n",
    "        with open(os.path.join(tmpdir, str(i)), 'w') as f:\n",
    "            f.write('\\n' * random.randint(0, 100))"
   ]
  },
  {
   "cell_type": "code",
   "execution_count": 40,
   "metadata": {},
   "outputs": [],
   "source": [
    "from tempfile import TemporaryDirectory\n",
    "import random\n",
    "\n",
    "with TemporaryDirectory() as tmpdir:\n",
    "    write_test_files(tmpdir)\n",
    "    config = {'data_dir' : tmpdir}\n",
    "    result = mapreduce(LineCountWorker, PathInputData, config)"
   ]
  },
  {
   "cell_type": "markdown",
   "metadata": {},
   "source": [
    "## 4. 객체를 범용으로 이용하려면 @classmethod 다형성을 이용하자\n",
    "\n",
    "기존에는 자식 클래스에서 부모클래스의 `__init__` 함수를 호출함으로써 부모클래스를 초기화하였다.  \n",
    "\n",
    "이 방법은 간단한 계층구조에는 잘 작동하지만, 그렇지 않은 경우도 다수 발생한다.\n"
   ]
  },
  {
   "cell_type": "code",
   "execution_count": null,
   "metadata": {},
   "outputs": [],
   "source": []
  },
  {
   "cell_type": "code",
   "execution_count": null,
   "metadata": {},
   "outputs": [],
   "source": []
  },
  {
   "cell_type": "code",
   "execution_count": null,
   "metadata": {},
   "outputs": [],
   "source": []
  },
  {
   "cell_type": "markdown",
   "metadata": {},
   "source": [
    "## 5. 공개 속성과 비공개 속성\n",
    "## 6. 커스텀 컨테이너 타입은 collections.abc를 활용하자"
   ]
  },
  {
   "cell_type": "code",
   "execution_count": null,
   "metadata": {},
   "outputs": [],
   "source": []
  }
 ],
 "metadata": {
  "kernelspec": {
   "display_name": "torch",
   "language": "python",
   "name": "torch"
  },
  "language_info": {
   "codemirror_mode": {
    "name": "ipython",
    "version": 3
   },
   "file_extension": ".py",
   "mimetype": "text/x-python",
   "name": "python",
   "nbconvert_exporter": "python",
   "pygments_lexer": "ipython3",
   "version": "3.7.4"
  }
 },
 "nbformat": 4,
 "nbformat_minor": 4
}
