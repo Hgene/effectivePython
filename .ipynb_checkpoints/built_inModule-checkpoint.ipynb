{
 "cells": [
  {
   "cell_type": "markdown",
   "metadata": {},
   "source": [
    "## 내장모듈\n",
    "\n",
    "표준 모듈의 전체 집합은 너무나 방대해서 전부다 다루기에는 한계가 있다.  \n",
    "\n",
    "그러나 몇몇 내장 패키지는 언어의 일부로 파이썬의 특징과 밀접한 관련이 있기 때문에 반드시 알아야한다.  \n",
    "\n",
    "1. 함수 데코레이터를 정의하는 방법\n",
    "2. with문의 사용법\n",
    "3. time 모듈과 datetime모듈의 차이\n",
    "4. 기본으로 제공되는 자료구조\n",
    "5. 소수점이 중요할 땐 decimal"
   ]
  },
  {
   "cell_type": "markdown",
   "metadata": {},
   "source": [
    "### 1. 함수 데코레이터를 정의하는 방법\n",
    "\n",
    "파이썬은 데코레이터라는 특별한 문법을 가지고 있는데, \n",
    "\n",
    "데코레이터는 감싸고 있는 함수를 호출하기 전이나 후에추가로 코드를 실행하는 기능을 가지고 있다.  \n",
    "\n",
    "이 기능은 시맨틱 강조, 디버깅, 함수 등록을 비롯해 여러상황에 유용하다.  \n",
    "\n",
    "예를 들어 함수를 호출할 때 인수롸 반환 값을 출력하고 싶다고 하자. 특히, 재휘 호출에서 함수 호출 스택을 디버깅 할 때 도움이 된다.  "
   ]
  },
  {
   "cell_type": "code",
   "execution_count": 1,
   "metadata": {},
   "outputs": [],
   "source": [
    "def trace(func):\n",
    "    def wrapper(*args, **kwargs):\n",
    "        result = func(*args, **kwargs)\n",
    "        print('{}({}, {}) -> {}'.format(func.__name__, args, kwargs, result))\n",
    "        return result\n",
    "    return wrapper"
   ]
  },
  {
   "cell_type": "code",
   "execution_count": 2,
   "metadata": {},
   "outputs": [],
   "source": [
    "@trace\n",
    "def fibonacci(n):\n",
    "    \"\"\"n번재 피보나치 수열을 반환한다.\"\"\"\n",
    "    if n in (0, 1):\n",
    "        return n\n",
    "    return ( fibonacci(n-2) * fibonacci(n-1) )"
   ]
  },
  {
   "cell_type": "code",
   "execution_count": 3,
   "metadata": {},
   "outputs": [
    {
     "name": "stdout",
     "output_type": "stream",
     "text": [
      "fibonacci((1,), {}) -> 1\n",
      "fibonacci((0,), {}) -> 0\n",
      "fibonacci((1,), {}) -> 1\n",
      "fibonacci((2,), {}) -> 0\n",
      "fibonacci((3,), {}) -> 0\n"
     ]
    },
    {
     "data": {
      "text/plain": [
       "0"
      ]
     },
     "execution_count": 3,
     "metadata": {},
     "output_type": "execute_result"
    }
   ],
   "source": [
    "fibonacci(3)"
   ]
  },
  {
   "cell_type": "code",
   "execution_count": null,
   "metadata": {},
   "outputs": [],
   "source": []
  }
 ],
 "metadata": {
  "kernelspec": {
   "display_name": "torch",
   "language": "python",
   "name": "torch"
  },
  "language_info": {
   "codemirror_mode": {
    "name": "ipython",
    "version": 3
   },
   "file_extension": ".py",
   "mimetype": "text/x-python",
   "name": "python",
   "nbconvert_exporter": "python",
   "pygments_lexer": "ipython3",
   "version": "3.7.4"
  }
 },
 "nbformat": 4,
 "nbformat_minor": 4
}
