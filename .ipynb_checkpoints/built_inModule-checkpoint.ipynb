{
 "cells": [
  {
   "cell_type": "markdown",
   "metadata": {},
   "source": [
    "## 내장모듈\n",
    "\n",
    "표준 모듈의 전체 집합은 너무나 방대해서 전부다 다루기에는 한계가 있다.  \n",
    "\n",
    "그러나 몇몇 내장 패키지는 언어의 일부로 파이썬의 특징과 밀접한 관련이 있기 때문에 반드시 알아야한다.  \n",
    "\n",
    "1. 함수 데코레이터를 정의하는 방법\n",
    "2. with문의 사용법\n",
    "3. time 모듈과 datetime모듈의 차이\n",
    "4. 기본으로 제공되는 자료구조\n",
    "5. 소수점이 중요할 땐 decimal"
   ]
  },
  {
   "cell_type": "markdown",
   "metadata": {},
   "source": [
    "### 1. 함수 데코레이터를 정의하는 방법\n",
    "\n",
    "파이썬은 데코레이터라는 특별한 문법을 가지고 있는데, \n",
    "\n",
    "데코레이터는 감싸고 있는 함수를 호출하기 전이나 후에추가로 코드를 실행하는 기능을 가지고 있다.  \n",
    "\n",
    "이 기능은 시맨틱 강조, 디버깅, 함수 등록을 비롯해 여러상황에 유용하다.  \n",
    "\n",
    "예를 들어 함수를 호출할 때 인수롸 반환 값을 출력하고 싶다고 하자. 특히, 재휘 호출에서 함수 호출 스택을 디버깅 할 때 도움이 된다.  "
   ]
  },
  {
   "cell_type": "code",
   "execution_count": 1,
   "metadata": {},
   "outputs": [],
   "source": [
    "#case1. basic\n",
    "def trace(func):\n",
    "    def wrapper(*args, **kwargs):\n",
    "        result = func(*args, **kwargs)\n",
    "        print('{}({}, {}) -> {}'.format(func.__name__, args, kwargs, result))\n",
    "        return result\n",
    "    return wrapper"
   ]
  },
  {
   "cell_type": "code",
   "execution_count": 2,
   "metadata": {},
   "outputs": [],
   "source": [
    "#case1. basic\n",
    "@trace\n",
    "def fibonacci(n):\n",
    "    \"\"\"n번재 피보나치 수열을 반환한다.\"\"\"\n",
    "    if n in (0, 1):\n",
    "        return n\n",
    "    return ( fibonacci(n-2) * fibonacci(n-1) )"
   ]
  },
  {
   "cell_type": "code",
   "execution_count": 3,
   "metadata": {},
   "outputs": [
    {
     "name": "stdout",
     "output_type": "stream",
     "text": [
      "fibonacci((1,), {}) -> 1\n",
      "fibonacci((0,), {}) -> 0\n",
      "fibonacci((1,), {}) -> 1\n",
      "fibonacci((2,), {}) -> 0\n",
      "fibonacci((3,), {}) -> 0\n",
      "Help on function wrapper in module __main__:\n",
      "\n",
      "wrapper(*args, **kwargs)\n",
      "\n"
     ]
    }
   ],
   "source": [
    "fibonacci(3)\n",
    "help(fibonacci)"
   ]
  },
  {
   "cell_type": "markdown",
   "metadata": {},
   "source": [
    "이 경우에는 __metadata가 복사되지 않아__ fibonacci에 대한 함수정보를 받아볼 수가 없다.  \n",
    "\n",
    "이를 해결하기 위해서는 `functools의 wraps` 를 사용하면 된다."
   ]
  },
  {
   "cell_type": "code",
   "execution_count": 4,
   "metadata": {},
   "outputs": [],
   "source": [
    "#case2. Metadata copy version\n",
    "from functools import wraps\n",
    "\n",
    "def trace(func):\n",
    "    @wraps(func)\n",
    "    def wrapper(*args, **kwargs):\n",
    "        result = func(*args, **kwargs)\n",
    "        print('{}({}, {}) -> {}'.format(func.__name__, args, kwargs, result))\n",
    "        return result\n",
    "    return wrapper"
   ]
  },
  {
   "cell_type": "code",
   "execution_count": 5,
   "metadata": {},
   "outputs": [],
   "source": [
    "#case2. Metadata copy version\n",
    "@trace\n",
    "def fibonacci(n):\n",
    "    \"\"\"n번재 피보나치 수열을 반환한다.\"\"\"\n",
    "    if n in (0, 1):\n",
    "        return n\n",
    "    return ( fibonacci(n-2) * fibonacci(n-1) )"
   ]
  },
  {
   "cell_type": "code",
   "execution_count": 6,
   "metadata": {},
   "outputs": [
    {
     "name": "stdout",
     "output_type": "stream",
     "text": [
      "fibonacci((1,), {}) -> 1\n",
      "fibonacci((0,), {}) -> 0\n",
      "fibonacci((1,), {}) -> 1\n",
      "fibonacci((2,), {}) -> 0\n",
      "fibonacci((3,), {}) -> 0\n",
      "Help on function fibonacci in module __main__:\n",
      "\n",
      "fibonacci(n)\n",
      "    n번재 피보나치 수열을 반환한다.\n",
      "\n"
     ]
    }
   ],
   "source": [
    "fibonacci(3)\n",
    "help(fibonacci)"
   ]
  },
  {
   "cell_type": "markdown",
   "metadata": {},
   "source": [
    "요약하면 다음과 같다.  \n",
    "\n",
    "- 데코레이터는 런타임에 한 함수로 다른 함수를 수정할 수 있게 해주는 파이썬 문법이다.  \n",
    "- 데코레이터를 사용하면 객체 내부를 조사하는 help함수가 이상하게 작동하는 경우가 있는데, 이는 내장함수 `functools.wraps` 로 해결할 수 있다."
   ]
  },
  {
   "cell_type": "markdown",
   "metadata": {},
   "source": [
    "### 2. with문의 사용법\n",
    "\n",
    "파이썬의 with문은 예를 들어 잠금을 사용하여 잠금이 설정되어 있는 동안만 들여 쓴 코드를 실행함을 나타낸다.  "
   ]
  },
  {
   "cell_type": "code",
   "execution_count": 7,
   "metadata": {},
   "outputs": [
    {
     "name": "stdout",
     "output_type": "stream",
     "text": [
      "Lock is held\n"
     ]
    }
   ],
   "source": [
    "from threading import Lock\n",
    "\n",
    "lock = Lock()\n",
    "with lock:\n",
    "    print('Lock is held')"
   ]
  },
  {
   "cell_type": "markdown",
   "metadata": {},
   "source": [
    "이 덕분에 아래에 해당하는 try/finally 구문을 사용하지 않고도 구현이 가능하다.  \n",
    "\n",
    "```\n",
    "lock.acquire()\n",
    "try:\n",
    "    print('Lock is held')\n",
    "finally:\n",
    "    lock.release()\n",
    "```\n",
    "\n",
    "이 때 with문을 제대로 사용하기 위해서 내장모듈 `contextlib`를 사용하면 객체와 함수를 with문에 쉽게 사용할 수 있도록 설계할 수 있다.  \n",
    "`contextlib`는 `contextmanager`데코레이터를 포함한다.  \n",
    "\n",
    "예를 들어 가끔씩 코드의 특정 영역에 더 많은 디버깅 로그를 넣고 싶다고 해보자. 여기서는 로깅 심각성 수준을 두 개로 로그를 남기는 함수를 만들어 본다.  "
   ]
  },
  {
   "cell_type": "code",
   "execution_count": 8,
   "metadata": {},
   "outputs": [],
   "source": [
    "import logging\n",
    "\n",
    "def my_function():\n",
    "    logging.debug('Some Debug data')\n",
    "    logging.error('Error log here')\n",
    "    logging.debug('More Debug data')"
   ]
  },
  {
   "cell_type": "code",
   "execution_count": 9,
   "metadata": {},
   "outputs": [
    {
     "name": "stderr",
     "output_type": "stream",
     "text": [
      "ERROR:root:Error log here\n"
     ]
    }
   ],
   "source": [
    "my_function()"
   ]
  },
  {
   "cell_type": "code",
   "execution_count": 10,
   "metadata": {},
   "outputs": [],
   "source": [
    "from contextlib import contextmanager\n",
    "\n",
    "@contextmanager\n",
    "def debug_logging(level):\n",
    "    logger = logging.getLogger()\n",
    "    old_level = logger.getEffectiveLevel()\n",
    "    logger.setLevel(level)\n",
    "    try:\n",
    "        yield\n",
    "    finally:\n",
    "        logger.setLevel(old_level)"
   ]
  },
  {
   "cell_type": "markdown",
   "metadata": {},
   "source": [
    "이 때 yield 표현식은 with 블록의 내용이 실행되는 지점이다. with 블록에서 일어나는 모든 예외를 yield 표현식이 다시 일으킴으로 헬퍼함수로 처리할 수 있다."
   ]
  },
  {
   "cell_type": "code",
   "execution_count": 11,
   "metadata": {},
   "outputs": [
    {
     "name": "stderr",
     "output_type": "stream",
     "text": [
      "ERROR:root:Error log here\n",
      "DEBUG:root:Some Debug data\n",
      "ERROR:root:Error log here\n",
      "DEBUG:root:More Debug data\n"
     ]
    },
    {
     "name": "stdout",
     "output_type": "stream",
     "text": [
      "Before: \n",
      "Inside: \n"
     ]
    }
   ],
   "source": [
    "print('Before: ')\n",
    "my_function()\n",
    "\n",
    "with debug_logging(logging.DEBUG):\n",
    "    print('Inside: ')\n",
    "    my_function()"
   ]
  },
  {
   "cell_type": "code",
   "execution_count": 13,
   "metadata": {},
   "outputs": [],
   "source": [
    "with open('./dataset/my_output43.txt', 'w') as handle:\n",
    "    handle.write('This is some data!')"
   ]
  },
  {
   "cell_type": "code",
   "execution_count": 16,
   "metadata": {},
   "outputs": [],
   "source": [
    "@contextmanager\n",
    "def log_level(level, name):\n",
    "    logger = logging.getLogger(name)\n",
    "    old_level = logger.getEffectiveLevel()\n",
    "    logger.setLevel(level)\n",
    "    try:\n",
    "        yield logger\n",
    "    finally:\n",
    "        logger.setLevel(old_level)    "
   ]
  },
  {
   "cell_type": "code",
   "execution_count": 17,
   "metadata": {},
   "outputs": [
    {
     "name": "stderr",
     "output_type": "stream",
     "text": [
      "DEBUG:my-log:This is my message\n"
     ]
    }
   ],
   "source": [
    "with log_level(logging.DEBUG, 'my-log') as logger:\n",
    "    logger.debug('This is my message')\n",
    "    logging.debug('This will not pring')\n",
    "    "
   ]
  },
  {
   "cell_type": "code",
   "execution_count": 18,
   "metadata": {},
   "outputs": [
    {
     "name": "stderr",
     "output_type": "stream",
     "text": [
      "ERROR:my-log:Error will print\n"
     ]
    }
   ],
   "source": [
    "logger = logging.getLogger('my-log')\n",
    "logger.debug('Debug will not print')\n",
    "logger.error('Error will print')"
   ]
  },
  {
   "cell_type": "markdown",
   "metadata": {},
   "source": [
    "이렇게 사용하는 경우 try/finally 구문을 재사용할 수 있게 된다.\n",
    "\n",
    "요약하면 다음과 같다.\n",
    "- with문을 이용하면 try/finally 문을 재사용할 수 있고, 코드를 깔끔하게 만들 수 있다.  \n",
    "- contextlib의 contextmanager를 사용하면 직접 작성한 함수를 with문에 쉽게 사용할 수 있다.\n",
    "- contextmanager에서 넘겨준 값은 as 부분이고, 값을 반환하려면 코트에서 특별한 컨텍스트에 직접접근하려고 할 때 유용하다.  "
   ]
  },
  {
   "cell_type": "markdown",
   "metadata": {},
   "source": [
    "### 3. time 모듈과 datetime모듈의 차이\n",
    "\n",
    "일반적으로 하는 기능은 같지만, time 보다는 __datetime__ 모듈을 사용하는 것인 안전하다. 그 이유는 time의 경우 운영체제와의 호환성에 의해서 불안정한 경우가 다수 발생하기 때문이다.  \n",
    "\n",
    "그렇기 때문에 time 모듈을 사용하더라도 UTC 시간을 지역시간으로 변경하는 정도의 용도로만 사용하도록 하자.  "
   ]
  },
  {
   "cell_type": "code",
   "execution_count": 20,
   "metadata": {},
   "outputs": [
    {
     "name": "stdout",
     "output_type": "stream",
     "text": [
      "2014-08-11 03:18:30\n"
     ]
    }
   ],
   "source": [
    "from time import localtime, strftime\n",
    "\n",
    "now = 1407694710\n",
    "local_tuple = localtime(now)\n",
    "time_format = '%Y-%m-%d %H:%M:%S'\n",
    "time_str = strftime(time_format, local_tuple)\n",
    "print(time_str)"
   ]
  },
  {
   "cell_type": "code",
   "execution_count": 21,
   "metadata": {},
   "outputs": [
    {
     "name": "stdout",
     "output_type": "stream",
     "text": [
      "1407694710.0\n"
     ]
    }
   ],
   "source": [
    "from time import mktime, strptime\n",
    "\n",
    "time_tuple = strptime(time_str, time_format)\n",
    "utc_now = mktime(time_tuple)\n",
    "print(utc_now)"
   ]
  },
  {
   "cell_type": "markdown",
   "metadata": {},
   "source": [
    "#### UTC to local_time\n",
    "다음은 파이썬의 시간을 UTC로 불러와서, 나의 지역시간으로 변경하는 코드이다.  \n",
    "datetime 모듈을 time 모듈과 다르게 한 지역 시간을 다른 지역 시간으로 신뢰성 잇게 변경한다. 하지만 tzinfo 클래스와 관련 매서드를 이용한 시간대 변환기능만 제공한다. \n",
    "\n",
    "빠진 부분은 UTC 이외의 시간대 정의다. 다행이도 이 부분은 `pytz` 모듈로 해결하고 있다.  pytz는 필요한 모든 시간대에 대한 정의를 담은 전체 데이터베이스를 포함한다.  \n",
    "pytz를 효과적으로 사용하기 위해서는 항상 지역시간을 UTC로 변경후에 사용해야한다.  "
   ]
  },
  {
   "cell_type": "code",
   "execution_count": 22,
   "metadata": {},
   "outputs": [
    {
     "name": "stdout",
     "output_type": "stream",
     "text": [
      "2014-08-11 03:18:30+09:00\n"
     ]
    }
   ],
   "source": [
    "from datetime import datetime, timezone\n",
    "\n",
    "now = datetime(2014, 8, 10, 18, 18, 30)\n",
    "now_utc = now.replace(tzinfo=timezone.utc)\n",
    "now_local = now_utc.astimezone()\n",
    "print(now_local)"
   ]
  },
  {
   "cell_type": "markdown",
   "metadata": {},
   "source": [
    "이를 다시 쉽게 UTC시간으로 바꿀수도 있다."
   ]
  },
  {
   "cell_type": "code",
   "execution_count": 26,
   "metadata": {},
   "outputs": [
    {
     "name": "stdout",
     "output_type": "stream",
     "text": [
      "1407637110.0\n"
     ]
    }
   ],
   "source": [
    "from datetime import datetime\n",
    "\n",
    "time_str = '2014-08-10 11:18:30'\n",
    "now = datetime.strptime(time_str, time_format)\n",
    "time_tuple = now.timetuple()\n",
    "utc_now = mktime(time_tuple)\n",
    "print(utc_now)"
   ]
  },
  {
   "cell_type": "code",
   "execution_count": 31,
   "metadata": {},
   "outputs": [
    {
     "name": "stdout",
     "output_type": "stream",
     "text": [
      "2014-05-02 03:33:24+00:00\n"
     ]
    }
   ],
   "source": [
    "#local_time to UTC\n",
    "import pytz\n",
    "\n",
    "arrival_nyc = '2014-05-01 23:33:24'\n",
    "nyc_dt_naive = datetime.strptime(arrival_nyc, time_format)\n",
    "eastern = pytz.timezone('US/Eastern')\n",
    "\n",
    "nyc_dt = eastern.localize(nyc_dt_naive)\n",
    "utc_dt = pytz.utc.normalize(nyc_dt.astimezone(pytz.utc))\n",
    "print(utc_dt)"
   ]
  },
  {
   "cell_type": "code",
   "execution_count": 33,
   "metadata": {},
   "outputs": [
    {
     "name": "stdout",
     "output_type": "stream",
     "text": [
      "2014-05-01 20:33:24-07:00\n",
      "2014-05-02 09:18:24+05:45\n"
     ]
    }
   ],
   "source": [
    "#UTC to another local time\n",
    "\n",
    "pacific = pytz.timezone('US/Pacific')\n",
    "sf_dt = pacific.normalize(utc_dt.astimezone(pacific))\n",
    "print(sf_dt)\n",
    "\n",
    "nepal = pytz.timezone('Asia/Katmandu')\n",
    "nepal_dt = nepal.normalize(utc_dt.astimezone(nepal))\n",
    "print(nepal_dt)"
   ]
  },
  {
   "cell_type": "markdown",
   "metadata": {},
   "source": [
    "### 4. 기본으로 제공되는 자료구조\n"
   ]
  },
  {
   "cell_type": "markdown",
   "metadata": {},
   "source": [
    "#### Deque(Double-ended que)"
   ]
  },
  {
   "cell_type": "code",
   "execution_count": 36,
   "metadata": {},
   "outputs": [
    {
     "name": "stdout",
     "output_type": "stream",
     "text": [
      "5\n",
      "deque([1])\n"
     ]
    }
   ],
   "source": [
    "from collections import deque\n",
    "\n",
    "fifo  = deque()\n",
    "fifo.append(5)\n",
    "fifo.append(1)\n",
    "x = fifo.popleft()\n",
    "print(x)\n",
    "print(fifo)"
   ]
  },
  {
   "cell_type": "markdown",
   "metadata": {},
   "source": [
    "#### OrderedDict\n",
    "\n",
    "딕셔너리를 마치 순서가 있는 이터레이터처럼 사용하고자 할 때 유용하다.  "
   ]
  },
  {
   "cell_type": "code",
   "execution_count": 37,
   "metadata": {},
   "outputs": [
    {
     "name": "stdout",
     "output_type": "stream",
     "text": [
      "1 red\n",
      "2 blue\n"
     ]
    }
   ],
   "source": [
    "from collections import OrderedDict\n",
    "\n",
    "a = OrderedDict()\n",
    "a['foo'] = 1\n",
    "a['bar'] = 2\n",
    "\n",
    "b = OrderedDict()\n",
    "b['foo'] = 'red'\n",
    "b['bar'] = 'blue'\n",
    "\n",
    "for value1, value2 in zip(a.values(), b.values()):\n",
    "    print(value1, value2)"
   ]
  },
  {
   "cell_type": "markdown",
   "metadata": {},
   "source": [
    "#### 힙큐(Heapque)\n",
    "\n",
    "힙은 우선순위 큐 를 유지하는 유용한 자료이다. 또한 연산에 걸리는 시간이 리스트 길이에 비례하려 로그형태로 증가하기 때문에, 연산적 장점을 가지고 있다. "
   ]
  },
  {
   "cell_type": "code",
   "execution_count": 40,
   "metadata": {},
   "outputs": [
    {
     "name": "stdout",
     "output_type": "stream",
     "text": [
      "3 4 5 7\n"
     ]
    }
   ],
   "source": [
    "from heapq import *\n",
    "\n",
    "a = []\n",
    "heappush(a, 5)\n",
    "heappush(a, 3)\n",
    "heappush(a, 7)\n",
    "heappush(a, 4)\n",
    "\n",
    "print(heappop(a), heappop(a), heappop(a), heappop(a))"
   ]
  },
  {
   "cell_type": "code",
   "execution_count": 41,
   "metadata": {},
   "outputs": [
    {
     "name": "stdout",
     "output_type": "stream",
     "text": [
      "Before:  [3, 4, 7, 5]\n",
      "After:  [3, 4, 5, 7]\n"
     ]
    }
   ],
   "source": [
    "a = []\n",
    "heappush(a, 5)\n",
    "heappush(a, 3)\n",
    "heappush(a, 7)\n",
    "heappush(a, 4)\n",
    "\n",
    "print('Before: ', a)\n",
    "a.sort()\n",
    "print('After: ', a)"
   ]
  },
  {
   "cell_type": "markdown",
   "metadata": {},
   "source": [
    "#### 바이섹션(Bisection)\n",
    "바이섹션 또한 연산에 걸리는 시간이 리스트 길이에 비례하려 로그형태로 증가하기 때문에, 연산적 장점을 가지고 있다. \n",
    "\n",
    "특히 인덱스를 반환한다고 생각했을 때, 100만의 경우 list.index는 100만에 비례하는 반면, 바이섹션의 경우log(100만)~14 정도의 탐색구간으로 엄청난 탐색 속도를 보인다.  "
   ]
  },
  {
   "cell_type": "code",
   "execution_count": 50,
   "metadata": {},
   "outputs": [
    {
     "name": "stdout",
     "output_type": "stream",
     "text": [
      "list indexing method:  0.016004\n",
      "Bisection method:  0.0\n"
     ]
    }
   ],
   "source": [
    "x = list(range(10**6))\n",
    "\n",
    "#list index method\n",
    "start = datetime.now()\n",
    "i = x.index(991234)\n",
    "end = datetime.now()\n",
    "print('list indexing method: ',(end-start).total_seconds())\n",
    "\n",
    "\n",
    "#Bisection index method\n",
    "from bisect import bisect_left\n",
    "start = datetime.now()\n",
    "i = bisect_left(x, 991234)\n",
    "end = datetime.now()\n",
    "print('Bisection method: ',(end-start).total_seconds())"
   ]
  },
  {
   "cell_type": "markdown",
   "metadata": {},
   "source": []
  },
  {
   "cell_type": "markdown",
   "metadata": {},
   "source": [
    "### 5. 소수점이 중요할 땐 decimal"
   ]
  },
  {
   "cell_type": "code",
   "execution_count": null,
   "metadata": {},
   "outputs": [],
   "source": []
  }
 ],
 "metadata": {
  "kernelspec": {
   "display_name": "torch",
   "language": "python",
   "name": "torch"
  },
  "language_info": {
   "codemirror_mode": {
    "name": "ipython",
    "version": 3
   },
   "file_extension": ".py",
   "mimetype": "text/x-python",
   "name": "python",
   "nbconvert_exporter": "python",
   "pygments_lexer": "ipython3",
   "version": "3.7.4"
  }
 },
 "nbformat": 4,
 "nbformat_minor": 4
}
