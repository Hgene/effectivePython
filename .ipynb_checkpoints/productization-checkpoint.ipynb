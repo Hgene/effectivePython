{
 "cells": [
  {
   "cell_type": "markdown",
   "metadata": {},
   "source": [
    "## 제품화(productization)\n",
    "\n",
    "이번 챕터에서는 파이썬의 제품화라는 주제를 다루게 된다.  \n",
    "\n",
    "이 중 큰 주제로 __디버깅과 최적화__ 두 주제를 다뤄볼까 한다.  \n",
    "\n",
    "1. 디버깅 출력용으로는 print보다 repr을 사용하자.\n",
    "2. 대화형 디버깅 pdb 를 사용하자.\n",
    "3. 최적화하기 전에 프로파일하자."
   ]
  },
  {
   "cell_type": "markdown",
   "metadata": {},
   "source": [
    "### 1. 디버깅 출력용으로는 print보다 repr을 사용하자.\n",
    "\n",
    "파이썬에서 디버깅을 하기 위해서는 print보다는 repr을 사용하는 것이 보다 효과적이다.  \n",
    "\n",
    "다음의 예시로 알 수 있는데, print의 경우 생각보다 많은 전처리를 해주어서 디버깅용으로는 적합하지 않다.  \n",
    "\n",
    "예를 들어 숫자5와 문자 5를 구별하지 않고 프린트해준다.  "
   ]
  },
  {
   "cell_type": "code",
   "execution_count": 2,
   "metadata": {},
   "outputs": [
    {
     "name": "stdout",
     "output_type": "stream",
     "text": [
      "5\n",
      "5\n",
      "5\n",
      "'5'\n"
     ]
    }
   ],
   "source": [
    "##print 함수\n",
    "print(5)\n",
    "print('5')\n",
    "\n",
    "##repr 함수\n",
    "print(repr(5))\n",
    "print(repr('5'))"
   ]
  },
  {
   "cell_type": "markdown",
   "metadata": {},
   "source": [
    "물론 다음과 같은 형태로 print함수를 활용하여 repr 형태로 출력할 수도 있다. "
   ]
  },
  {
   "cell_type": "code",
   "execution_count": 3,
   "metadata": {},
   "outputs": [
    {
     "name": "stdout",
     "output_type": "stream",
     "text": [
      "5\n",
      "'5'\n"
     ]
    }
   ],
   "source": [
    "print('%r' % 5)\n",
    "print('%r' % '5')"
   ]
  },
  {
   "cell_type": "markdown",
   "metadata": {},
   "source": [
    "또한 클래스에 \\__repr\\__ 메서드를 정의함으로써, 보다 명확하게 클래스의 속성을 정의할 수 있다."
   ]
  },
  {
   "cell_type": "code",
   "execution_count": 5,
   "metadata": {},
   "outputs": [],
   "source": [
    "class OpaqueClass(object):\n",
    "    def __init__(self, x, y):\n",
    "        self.x = x\n",
    "        self.y = y\n",
    "        "
   ]
  },
  {
   "cell_type": "code",
   "execution_count": 6,
   "metadata": {},
   "outputs": [
    {
     "name": "stdout",
     "output_type": "stream",
     "text": [
      "<__main__.OpaqueClass object at 0x0000021B35EB7088>\n"
     ]
    }
   ],
   "source": [
    "obj = OpaqueClass(1, 2)\n",
    "print(obj)"
   ]
  },
  {
   "cell_type": "code",
   "execution_count": 9,
   "metadata": {},
   "outputs": [],
   "source": [
    "class BetterClass(object):\n",
    "    def __init__(self, x, y):\n",
    "        self.x = x\n",
    "        self.y = y\n",
    "    \n",
    "    def __repr__(self):\n",
    "        return 'BetterClass({},{})'.format(self.x, self.y)\n",
    "    "
   ]
  },
  {
   "cell_type": "code",
   "execution_count": 10,
   "metadata": {},
   "outputs": [
    {
     "name": "stdout",
     "output_type": "stream",
     "text": [
      "BetterClass(1,2)\n"
     ]
    }
   ],
   "source": [
    "obj = BetterClass(1, 2)\n",
    "print(obj)"
   ]
  },
  {
   "cell_type": "markdown",
   "metadata": {},
   "source": [
    "또한 클래스를 직접 제어할 수 없는 경우에는 \\__dict\\__를 활용하면 된다.  "
   ]
  },
  {
   "cell_type": "code",
   "execution_count": 11,
   "metadata": {},
   "outputs": [
    {
     "name": "stdout",
     "output_type": "stream",
     "text": [
      "{'x': 1, 'y': 2}\n"
     ]
    }
   ],
   "source": [
    "print(obj.__dict__)"
   ]
  },
  {
   "cell_type": "markdown",
   "metadata": {},
   "source": [
    "### 2. 대화형 디버깅 pdb 를 사용하자.\n",
    "\n",
    "파이썬에 내장된 대화식 디버거를 사용하면, 프로그램의 상태를 조사하고, 지녁변수를 출력하고, 파이썬 프로그램을 한번에 한문장씩 실행할 수 있다.  \n",
    "\n",
    "이를 제대로 활용하고 싶다면, 다음의 웹사이트를 참고하여보자 site: http://pythonstudy.xyz/python/article/505-Python-%EB%94%94%EB%B2%84%EA%B9%85-PDB  \n",
    "\n",
    "\n",
    "사용방법은 다음과 같다. \n",
    "1. 내장모듈 pdb를 import하고, 원하는 위치에 set_trace함수를 실행한다.\n",
    "2. 이후 원하는 명령어를 통해 파이썬 파일의 디버깅을 시작한다."
   ]
  },
  {
   "cell_type": "markdown",
   "metadata": {},
   "source": [
    "#### 명령어의 종류\n",
    "\n",
    "- bt : 현재 실행 호출 스택의 추정 정보를 출력한다.\n",
    "- up : 현재 함수의 호출자 쪽으로 함수 호출 스택의 스코프를 이동한다.\n",
    "- down : 함수 호출 스택을 한단계 낮춘다.\n",
    "\n",
    "- step : 프로그램의 다음 줄까지 실핸한 다음 제어를 디버거에 돌려준다.\n",
    "- next : 현재 함수에서 다음줄까지 프로그램을 실행한 다음 제어를 디버거에 돌려준다.\n",
    "- return : 현재 함수가 값을 반환할 때까지 프로그램을 실행한 다음 제어를 디버거에 돌려준다.\n",
    "- continue : 다음 중단점(혹은 set_trace가 다시 호출되는 시점)까지 프로그램 실행을 계속한다. "
   ]
  },
  {
   "cell_type": "markdown",
   "metadata": {},
   "source": [
    "### 3. 최적화하기 전에 프로파일하자.\n",
    "\n",
    "파이썬 프로그램을 느리게 만드는 원인을 찾기란 어려운 task 중 하나이다.  \n",
    "\n",
    "이를 찾기 위한 가장 좋은 방법은 직접 프로그램의 성능을 측정해보는 것이다.  \n",
    "\n",
    "파이썬은 프로그램의 어느 부분이 실행시간을 소비하는지 파악할 수 있도록 __내장 프로파일러를 제공__ 한다.  \n",
    "\n",
    "이 프로파일러를 사용하면 속도에 영향을 주는 부분을 찾아, __최적화 하는데에 직접적인 도움__ 을 줄 수 있다."
   ]
  },
  {
   "cell_type": "code",
   "execution_count": 12,
   "metadata": {},
   "outputs": [],
   "source": [
    "def insertion_sort(data):\n",
    "    result = []\n",
    "    for value in data:\n",
    "        insert_value(result, value)\n",
    "    return result"
   ]
  },
  {
   "cell_type": "code",
   "execution_count": 18,
   "metadata": {},
   "outputs": [],
   "source": [
    "def insert_value(array, value):\n",
    "    for i, existing in enumerate(array):\n",
    "        if existing > value:\n",
    "            array.insert(i, value)\n",
    "            return\n",
    "    array.append(value)"
   ]
  },
  {
   "cell_type": "code",
   "execution_count": 14,
   "metadata": {},
   "outputs": [],
   "source": [
    "from random import randint\n",
    "\n",
    "max_size = 10**4\n",
    "data = [randint(0, max_size) for _ in range(max_size)]\n",
    "test = lambda : insertion_sort(data)"
   ]
  },
  {
   "cell_type": "code",
   "execution_count": 19,
   "metadata": {},
   "outputs": [
    {
     "name": "stdout",
     "output_type": "stream",
     "text": [
      "         20003 function calls in 1.334 seconds\n",
      "\n",
      "   Ordered by: cumulative time\n",
      "\n",
      "   ncalls  tottime  percall  cumtime  percall filename:lineno(function)\n",
      "        1    0.000    0.000    1.334    1.334 <ipython-input-14-6debedb6861c>:5(<lambda>)\n",
      "        1    0.003    0.003    1.334    1.334 <ipython-input-12-cbe174de868f>:1(insertion_sort)\n",
      "    10000    1.312    0.000    1.330    0.000 <ipython-input-18-c4fc1ad100fb>:1(insert_value)\n",
      "     9991    0.019    0.000    0.019    0.000 {method 'insert' of 'list' objects}\n",
      "        9    0.000    0.000    0.000    0.000 {method 'append' of 'list' objects}\n",
      "        1    0.000    0.000    0.000    0.000 {method 'disable' of '_lsprof.Profiler' objects}\n",
      "\n",
      "\n"
     ]
    },
    {
     "data": {
      "text/plain": [
       "<pstats.Stats at 0x21b35ecfc48>"
      ]
     },
     "execution_count": 19,
     "metadata": {},
     "output_type": "execute_result"
    }
   ],
   "source": [
    "from cProfile import Profile\n",
    "import sys\n",
    "from pstats import Stats\n",
    "\n",
    "profiler = Profile()\n",
    "profiler.runcall(test)\n",
    "\n",
    "stats = Stats(profiler)\n",
    "stats.strip_dirs()\n",
    "stats.sort_stats('cumulative')\n",
    "stats.print_stats()"
   ]
  },
  {
   "cell_type": "markdown",
   "metadata": {},
   "source": [
    "각각의 의미는 다음과 같다.  \n",
    "- ncalls : 프로파일링 주기 동안의 함수호출 횟수\n",
    "- tottime : 함수가 실행되는 동안 소비한 초단위의 시간\n",
    "- tottime percall : 함수호출 평균시간(tottime / ncalls)\n",
    "- cultime : 함수호출 누적시간\n",
    "- cultime percall : 함수를 호출할 때 마다 걸린 시간에 대한 평균시간.(cultime / ncalls)"
   ]
  },
  {
   "cell_type": "code",
   "execution_count": 20,
   "metadata": {},
   "outputs": [
    {
     "name": "stdout",
     "output_type": "stream",
     "text": [
      "         20003 function calls in 1.334 seconds\n",
      "\n",
      "   Ordered by: cumulative time\n",
      "\n",
      "   ncalls  tottime  percall  cumtime  percall filename:lineno(function)\n",
      "        1    0.000    0.000    1.334    1.334 <ipython-input-14-6debedb6861c>:5(<lambda>)\n",
      "        1    0.003    0.003    1.334    1.334 <ipython-input-12-cbe174de868f>:1(insertion_sort)\n",
      "    10000    1.312    0.000    1.330    0.000 <ipython-input-18-c4fc1ad100fb>:1(insert_value)\n",
      "     9991    0.019    0.000    0.019    0.000 {method 'insert' of 'list' objects}\n",
      "        9    0.000    0.000    0.000    0.000 {method 'append' of 'list' objects}\n",
      "        1    0.000    0.000    0.000    0.000 {method 'disable' of '_lsprof.Profiler' objects}\n",
      "\n",
      "\n"
     ]
    },
    {
     "data": {
      "text/plain": [
       "<pstats.Stats at 0x21b35ecfc48>"
      ]
     },
     "execution_count": 20,
     "metadata": {},
     "output_type": "execute_result"
    }
   ],
   "source": [
    "stats.print_stats()"
   ]
  },
  {
   "cell_type": "markdown",
   "metadata": {},
   "source": [
    "또한 각 함수의 프로파일링에 기여하는 호출자에 관한 정보도 같이 볼 수 있다.  \n",
    "\n",
    "insert 함수에서는 __위치 탐색이 가장 큰 computation 소모 요소__ 인데, 개선되지 않은 함수의 경우 낮은 성능을 보임을 알 수 있다.  \n",
    "\n",
    "이러한 결과를 보았을 때 __insert_value 함수가 가장 많은 호출되고, 시간소요를 많이 하고 있음__ 을 알 수 있는데, 이 함수를 수정하면 다음과 같은 결과를 얻을 수 있다."
   ]
  },
  {
   "cell_type": "code",
   "execution_count": 21,
   "metadata": {},
   "outputs": [],
   "source": [
    "from bisect import bisect_left\n",
    "\n",
    "def insert_value(array, value):\n",
    "    i = bisect_left(array, value)\n",
    "    array.insert(i, value)"
   ]
  },
  {
   "cell_type": "code",
   "execution_count": 22,
   "metadata": {},
   "outputs": [
    {
     "name": "stdout",
     "output_type": "stream",
     "text": [
      "         30003 function calls in 0.028 seconds\n",
      "\n",
      "   Ordered by: cumulative time\n",
      "\n",
      "   ncalls  tottime  percall  cumtime  percall filename:lineno(function)\n",
      "        1    0.000    0.000    0.028    0.028 <ipython-input-14-6debedb6861c>:5(<lambda>)\n",
      "        1    0.002    0.002    0.028    0.028 <ipython-input-12-cbe174de868f>:1(insertion_sort)\n",
      "    10000    0.003    0.000    0.026    0.000 <ipython-input-21-9e3ac1f6182f>:3(insert_value)\n",
      "    10000    0.017    0.000    0.017    0.000 {method 'insert' of 'list' objects}\n",
      "    10000    0.006    0.000    0.006    0.000 {built-in method _bisect.bisect_left}\n",
      "        1    0.000    0.000    0.000    0.000 {method 'disable' of '_lsprof.Profiler' objects}\n",
      "\n",
      "\n"
     ]
    },
    {
     "data": {
      "text/plain": [
       "<pstats.Stats at 0x21b35f3bf88>"
      ]
     },
     "execution_count": 22,
     "metadata": {},
     "output_type": "execute_result"
    }
   ],
   "source": [
    "profiler = Profile()\n",
    "profiler.runcall(test)\n",
    "\n",
    "stats = Stats(profiler)\n",
    "stats.strip_dirs()\n",
    "stats.sort_stats('cumulative')\n",
    "stats.print_stats()"
   ]
  },
  {
   "cell_type": "code",
   "execution_count": 23,
   "metadata": {},
   "outputs": [
    {
     "name": "stdout",
     "output_type": "stream",
     "text": [
      "         30003 function calls in 0.028 seconds\n",
      "\n",
      "   Ordered by: cumulative time\n",
      "\n",
      "   ncalls  tottime  percall  cumtime  percall filename:lineno(function)\n",
      "        1    0.000    0.000    0.028    0.028 <ipython-input-14-6debedb6861c>:5(<lambda>)\n",
      "        1    0.002    0.002    0.028    0.028 <ipython-input-12-cbe174de868f>:1(insertion_sort)\n",
      "    10000    0.003    0.000    0.026    0.000 <ipython-input-21-9e3ac1f6182f>:3(insert_value)\n",
      "    10000    0.017    0.000    0.017    0.000 {method 'insert' of 'list' objects}\n",
      "    10000    0.006    0.000    0.006    0.000 {built-in method _bisect.bisect_left}\n",
      "        1    0.000    0.000    0.000    0.000 {method 'disable' of '_lsprof.Profiler' objects}\n",
      "\n",
      "\n"
     ]
    },
    {
     "data": {
      "text/plain": [
       "<pstats.Stats at 0x21b35f3bf88>"
      ]
     },
     "execution_count": 23,
     "metadata": {},
     "output_type": "execute_result"
    }
   ],
   "source": [
    "stats.print_stats()"
   ]
  }
 ],
 "metadata": {
  "kernelspec": {
   "display_name": "torch",
   "language": "python",
   "name": "torch"
  },
  "language_info": {
   "codemirror_mode": {
    "name": "ipython",
    "version": 3
   },
   "file_extension": ".py",
   "mimetype": "text/x-python",
   "name": "python",
   "nbconvert_exporter": "python",
   "pygments_lexer": "ipython3",
   "version": "3.7.4"
  }
 },
 "nbformat": 4,
 "nbformat_minor": 4
}
