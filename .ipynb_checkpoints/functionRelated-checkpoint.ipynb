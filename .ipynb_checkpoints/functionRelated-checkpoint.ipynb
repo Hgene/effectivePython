{
 "cells": [
  {
   "cell_type": "markdown",
   "metadata": {},
   "source": [
    "## 함수\n",
    "\n",
    "파이썬에서 프로그래머가 처음으로 사용하는 구성도구가 함수이다.\n",
    "함수를 사용하면 가독성이 높아지고 재사용이나 리팩토링이 가능해진다.  \n",
    "\n",
    "파이썬에서 제공하는 함수들에는 개발자를 좀 더 편하게 해주는 다양한 기능들이 있는데, 그 기능들을 소개한다.  \n",
    "일부는 다른 프로그래밍 언어에도 존재하고, 다른 일부는 파이썬에만 있는 기능이다.  \n",
    "\n",
    "\n",
    "1. None을 반환하기 보다는 예외를 일으키자\n",
    "2. 클로저와 스코프\n",
    "3. 리스트 대신 제너레이터를 고려하자\n",
    "4. 인수를 순회할 때는 방어적으로 하자(이터레이터 프로토콜)\n",
    "5. 가변위치 인수, 키워드위치 인수\n",
    "6. 동적 기본인수의 지정\n",
    "\n",
    "\n",
    "이러한 부가기능을 통해 __불필요한 요소를 제거하고 호출자의 의도를 명료하게 보여주며, 찾기 어려운 미묘한 버그를 상당수 줄여줄 수 있다.__"
   ]
  },
  {
   "cell_type": "markdown",
   "metadata": {},
   "source": [
    "## 1. None을 반환하기보다는 예외를 일으키자\n",
    "\n",
    "None 값을 사용하는 것은 파이썬 프로그래밍에 있어 오류를 발생시킬 가능성이 크다. 그렇기 때문에 최대한 예외처리를 사용하는 것이 바람직하다.\n"
   ]
  },
  {
   "cell_type": "code",
   "execution_count": 1,
   "metadata": {},
   "outputs": [],
   "source": [
    "def divide(a, b):\n",
    "    try:\n",
    "        return a / b\n",
    "    except ZeroDivisionError:\n",
    "        return None\n",
    "x = 0\n",
    "y = 10\n",
    "result = divide(x, y)\n",
    "if result is None:\n",
    "    print('Invalid inputs')"
   ]
  },
  {
   "cell_type": "code",
   "execution_count": 2,
   "metadata": {},
   "outputs": [
    {
     "name": "stdout",
     "output_type": "stream",
     "text": [
      "Invalid inputs\n"
     ]
    }
   ],
   "source": [
    "x = 10\n",
    "y = 0\n",
    "result = divide(x, y)\n",
    "if result is None:\n",
    "    print('Invalid inputs')"
   ]
  },
  {
   "cell_type": "markdown",
   "metadata": {},
   "source": [
    "## 2. 클로저와 스코프\n",
    "\n",
    "클로저란. 자신이 정의된 스코프에 있는 변수를 참조하는 함수다.  \n",
    "바로 이 점 덕분에 helper 함수가 sort_priority의 group 인수에 접근 할 수 있다.\n",
    "\n",
    "- 함수는 파이썬에서 일급 객체다. 이 말은 함수를 직접 참조하고, 변수에 할당하고, 다른 함수의 인수로 전달하고, 표현식과 if else 문 등에서 비교할 수 있다는 말이다.\n",
    "- 파이썬에서는 튜플을 비교하는 특정한 규칙이 있다. 먼저 인덱스를 0으로 아이템을 비교하고, 인덱스 1, 2 순으로 비교한다. helper 클로저의 반환값이 정렬 순서를 분리된 두 그룹으로 나뉘게 한 것이 이 규칙 때문이다."
   ]
  },
  {
   "cell_type": "code",
   "execution_count": 3,
   "metadata": {},
   "outputs": [],
   "source": [
    "def sort_priority(values, group):\n",
    "    def helper(x):\n",
    "        if x in group:\n",
    "            return(0, x)\n",
    "        return (1, x)\n",
    "    \n",
    "    values.sort(key = helper)"
   ]
  },
  {
   "cell_type": "code",
   "execution_count": 10,
   "metadata": {},
   "outputs": [
    {
     "name": "stdout",
     "output_type": "stream",
     "text": [
      "[2, 3, 5, 7, 1, 4, 6, 8]\n"
     ]
    }
   ],
   "source": [
    "numbers = [8, 3, 1, 2, 5, 4, 7, 6]\n",
    "group = {2, 3, 5, 7}\n",
    "\n",
    "sort_priority(numbers, group)\n",
    "print(numbers)"
   ]
  },
  {
   "cell_type": "code",
   "execution_count": 15,
   "metadata": {},
   "outputs": [],
   "source": [
    "#함수의 스코프를 잘못 설정한 경우\n",
    "def sort_priority2(values, group):\n",
    "    found = False\n",
    "    def helper(x):\n",
    "        if x in group:\n",
    "            found = True\n",
    "            return(0, x)\n",
    "        return (1, x)\n",
    "    \n",
    "    values.sort(key = helper)\n",
    "    return found"
   ]
  },
  {
   "cell_type": "code",
   "execution_count": 16,
   "metadata": {},
   "outputs": [
    {
     "name": "stdout",
     "output_type": "stream",
     "text": [
      "Found :  False\n",
      "[2, 3, 5, 7, 1, 4, 6, 8]\n"
     ]
    }
   ],
   "source": [
    "found = sort_priority2(numbers, group)\n",
    "print('Found : ', found)\n",
    "print(numbers)"
   ]
  },
  {
   "cell_type": "markdown",
   "metadata": {},
   "source": [
    "### 파이썬의 스코프 탐색 순서\n",
    "1. 현재 함수의 스코프\n",
    "2. (현재 스코프를 담고 있는 함수와 같이) 감싸고 있는 스코프\n",
    "3. 코드를 포함하고 있는 모듈의 스코프(전역 스코프라고도 함)\n",
    "4. (len이나 str 같은 함수를 담고 있는) 내장 스코프\n",
    "\n",
    "변수가 이미 현재 스코프에 정의되어 있다면 새로운 값으로 인식하고 다르게 취급한다.  \n",
    "파이썬은 변수가 현재 스코프레 존재하지 않으면 변수 정의로 취급한다.\n",
    "\n",
    "이를 조절하기 위해 나온 것이 __\\*nonlocal\\*과 global__ 문 이다  \n",
    "\n",
    "### nonlocal과 global\n",
    "\n",
    "앞서 말한 것과 같은 문제를 해결하기 위해, 변수의 스코프를 개발자가 직접 정할 수 있게 하는 역할을 한다.\n",
    "\n",
    "global 문은 변수 할당이 모듈 스코프에 직접들어 가게하여 전역변수를 생성한다.  \n",
    "이에 반해 __nonlocal__ 문은 변수 할당이 현재보다 상위 스코프 까지 이루어진다.  \n"
   ]
  },
  {
   "cell_type": "code",
   "execution_count": 17,
   "metadata": {},
   "outputs": [],
   "source": [
    "#nonlocal함수를 통해 변수의 스코프를 알맞게 설정한 경우\n",
    "def sort_priority3(values, group):\n",
    "    found = False\n",
    "    def helper(x):\n",
    "        nonlocal found\n",
    "        if x in group:\n",
    "            found = True\n",
    "            return(0, x)\n",
    "        return (1, x)\n",
    "    \n",
    "    values.sort(key = helper)\n",
    "    return found"
   ]
  },
  {
   "cell_type": "code",
   "execution_count": 18,
   "metadata": {},
   "outputs": [
    {
     "name": "stdout",
     "output_type": "stream",
     "text": [
      "Found :  True\n",
      "[2, 3, 5, 7, 1, 4, 6, 8]\n"
     ]
    }
   ],
   "source": [
    "found = sort_priority3(numbers, group)\n",
    "print('Found : ', found)\n",
    "print(numbers)"
   ]
  },
  {
   "cell_type": "code",
   "execution_count": null,
   "metadata": {},
   "outputs": [],
   "source": []
  }
 ],
 "metadata": {
  "kernelspec": {
   "display_name": "torch",
   "language": "python",
   "name": "torch"
  },
  "language_info": {
   "codemirror_mode": {
    "name": "ipython",
    "version": 3
   },
   "file_extension": ".py",
   "mimetype": "text/x-python",
   "name": "python",
   "nbconvert_exporter": "python",
   "pygments_lexer": "ipython3",
   "version": "3.7.4"
  }
 },
 "nbformat": 4,
 "nbformat_minor": 4
}
